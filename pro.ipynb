{
 "cells": [
  {
   "cell_type": "code",
   "execution_count": 1,
   "metadata": {},
   "outputs": [],
   "source": [
    "import pandas as pd\n",
    "import numpy as np\n",
    "import matplotlib.pyplot as plt\n",
    "import seaborn as sns"
   ]
  },
  {
   "cell_type": "code",
   "execution_count": 2,
   "metadata": {},
   "outputs": [
    {
     "data": {
      "text/html": [
       "<div>\n",
       "<style scoped>\n",
       "    .dataframe tbody tr th:only-of-type {\n",
       "        vertical-align: middle;\n",
       "    }\n",
       "\n",
       "    .dataframe tbody tr th {\n",
       "        vertical-align: top;\n",
       "    }\n",
       "\n",
       "    .dataframe thead th {\n",
       "        text-align: right;\n",
       "    }\n",
       "</style>\n",
       "<table border=\"1\" class=\"dataframe\">\n",
       "  <thead>\n",
       "    <tr style=\"text-align: right;\">\n",
       "      <th></th>\n",
       "      <th>GENDER</th>\n",
       "      <th>AGE</th>\n",
       "      <th>BMI</th>\n",
       "      <th>TEMP</th>\n",
       "      <th>SBP</th>\n",
       "      <th>Pulse</th>\n",
       "      <th>ALCOHOL</th>\n",
       "      <th>SMOKER</th>\n",
       "      <th>SLEEP HOURS</th>\n",
       "      <th>HEALTH LEVEL</th>\n",
       "    </tr>\n",
       "  </thead>\n",
       "  <tbody>\n",
       "    <tr>\n",
       "      <th>0</th>\n",
       "      <td>male</td>\n",
       "      <td>19</td>\n",
       "      <td>33.770</td>\n",
       "      <td>98.6</td>\n",
       "      <td>120</td>\n",
       "      <td>80</td>\n",
       "      <td>no</td>\n",
       "      <td>yes</td>\n",
       "      <td>5.0</td>\n",
       "      <td>2</td>\n",
       "    </tr>\n",
       "    <tr>\n",
       "      <th>1</th>\n",
       "      <td>male</td>\n",
       "      <td>18</td>\n",
       "      <td>24.450</td>\n",
       "      <td>95.0</td>\n",
       "      <td>140</td>\n",
       "      <td>75</td>\n",
       "      <td>no</td>\n",
       "      <td>no</td>\n",
       "      <td>9.0</td>\n",
       "      <td>1</td>\n",
       "    </tr>\n",
       "    <tr>\n",
       "      <th>2</th>\n",
       "      <td>male</td>\n",
       "      <td>28</td>\n",
       "      <td>22.705</td>\n",
       "      <td>104.0</td>\n",
       "      <td>155</td>\n",
       "      <td>92</td>\n",
       "      <td>no</td>\n",
       "      <td>no</td>\n",
       "      <td>9.0</td>\n",
       "      <td>1</td>\n",
       "    </tr>\n",
       "    <tr>\n",
       "      <th>3</th>\n",
       "      <td>male</td>\n",
       "      <td>33</td>\n",
       "      <td>28.880</td>\n",
       "      <td>110.5</td>\n",
       "      <td>115</td>\n",
       "      <td>79</td>\n",
       "      <td>yes</td>\n",
       "      <td>no</td>\n",
       "      <td>11.0</td>\n",
       "      <td>2</td>\n",
       "    </tr>\n",
       "    <tr>\n",
       "      <th>4</th>\n",
       "      <td>female</td>\n",
       "      <td>32</td>\n",
       "      <td>25.740</td>\n",
       "      <td>94.3</td>\n",
       "      <td>119</td>\n",
       "      <td>85</td>\n",
       "      <td>no</td>\n",
       "      <td>no</td>\n",
       "      <td>6.0</td>\n",
       "      <td>1</td>\n",
       "    </tr>\n",
       "    <tr>\n",
       "      <th>...</th>\n",
       "      <td>...</td>\n",
       "      <td>...</td>\n",
       "      <td>...</td>\n",
       "      <td>...</td>\n",
       "      <td>...</td>\n",
       "      <td>...</td>\n",
       "      <td>...</td>\n",
       "      <td>...</td>\n",
       "      <td>...</td>\n",
       "      <td>...</td>\n",
       "    </tr>\n",
       "    <tr>\n",
       "      <th>144</th>\n",
       "      <td>female</td>\n",
       "      <td>30</td>\n",
       "      <td>23.450</td>\n",
       "      <td>110.5</td>\n",
       "      <td>154</td>\n",
       "      <td>83</td>\n",
       "      <td>no</td>\n",
       "      <td>yes</td>\n",
       "      <td>10.0</td>\n",
       "      <td>2</td>\n",
       "    </tr>\n",
       "    <tr>\n",
       "      <th>145</th>\n",
       "      <td>male</td>\n",
       "      <td>29</td>\n",
       "      <td>30.495</td>\n",
       "      <td>113.9</td>\n",
       "      <td>118</td>\n",
       "      <td>73</td>\n",
       "      <td>no</td>\n",
       "      <td>no</td>\n",
       "      <td>10.0</td>\n",
       "      <td>1</td>\n",
       "    </tr>\n",
       "    <tr>\n",
       "      <th>146</th>\n",
       "      <td>female</td>\n",
       "      <td>46</td>\n",
       "      <td>37.730</td>\n",
       "      <td>95.0</td>\n",
       "      <td>125</td>\n",
       "      <td>79</td>\n",
       "      <td>no</td>\n",
       "      <td>yes</td>\n",
       "      <td>13.0</td>\n",
       "      <td>2</td>\n",
       "    </tr>\n",
       "    <tr>\n",
       "      <th>147</th>\n",
       "      <td>female</td>\n",
       "      <td>51</td>\n",
       "      <td>37.430</td>\n",
       "      <td>94.3</td>\n",
       "      <td>132</td>\n",
       "      <td>78</td>\n",
       "      <td>no</td>\n",
       "      <td>no</td>\n",
       "      <td>5.0</td>\n",
       "      <td>2</td>\n",
       "    </tr>\n",
       "    <tr>\n",
       "      <th>148</th>\n",
       "      <td>male</td>\n",
       "      <td>53</td>\n",
       "      <td>23.300</td>\n",
       "      <td>96.5</td>\n",
       "      <td>118</td>\n",
       "      <td>74</td>\n",
       "      <td>no</td>\n",
       "      <td>no</td>\n",
       "      <td>7.0</td>\n",
       "      <td>1</td>\n",
       "    </tr>\n",
       "  </tbody>\n",
       "</table>\n",
       "<p>149 rows × 10 columns</p>\n",
       "</div>"
      ],
      "text/plain": [
       "     GENDER  AGE     BMI   TEMP  SBP  Pulse ALCOHOL SMOKER  SLEEP HOURS  \\\n",
       "0      male   19  33.770   98.6  120     80      no    yes          5.0   \n",
       "1      male   18  24.450   95.0  140     75      no     no          9.0   \n",
       "2      male   28  22.705  104.0  155     92      no     no          9.0   \n",
       "3      male   33  28.880  110.5  115     79     yes     no         11.0   \n",
       "4    female   32  25.740   94.3  119     85      no     no          6.0   \n",
       "..      ...  ...     ...    ...  ...    ...     ...    ...          ...   \n",
       "144  female   30  23.450  110.5  154     83      no    yes         10.0   \n",
       "145    male   29  30.495  113.9  118     73      no     no         10.0   \n",
       "146  female   46  37.730   95.0  125     79      no    yes         13.0   \n",
       "147  female   51  37.430   94.3  132     78      no     no          5.0   \n",
       "148    male   53  23.300   96.5  118     74      no     no          7.0   \n",
       "\n",
       "     HEALTH LEVEL  \n",
       "0               2  \n",
       "1               1  \n",
       "2               1  \n",
       "3               2  \n",
       "4               1  \n",
       "..            ...  \n",
       "144             2  \n",
       "145             1  \n",
       "146             2  \n",
       "147             2  \n",
       "148             1  \n",
       "\n",
       "[149 rows x 10 columns]"
      ]
     },
     "execution_count": 2,
     "metadata": {},
     "output_type": "execute_result"
    }
   ],
   "source": [
    "dataset=pd.read_csv(\"DATASET FINAL.csv\")\n",
    "dataset"
   ]
  },
  {
   "cell_type": "code",
   "execution_count": 3,
   "metadata": {},
   "outputs": [
    {
     "data": {
      "text/plain": [
       "pandas.core.frame.DataFrame"
      ]
     },
     "execution_count": 3,
     "metadata": {},
     "output_type": "execute_result"
    }
   ],
   "source": [
    "type(dataset)"
   ]
  },
  {
   "cell_type": "code",
   "execution_count": 4,
   "metadata": {},
   "outputs": [
    {
     "data": {
      "text/plain": [
       "GENDER          0\n",
       "AGE             0\n",
       "BMI             0\n",
       "TEMP            0\n",
       "SBP             0\n",
       "Pulse           0\n",
       "ALCOHOL         0\n",
       "SMOKER          0\n",
       "SLEEP HOURS     1\n",
       "HEALTH LEVEL    0\n",
       "dtype: int64"
      ]
     },
     "execution_count": 4,
     "metadata": {},
     "output_type": "execute_result"
    }
   ],
   "source": [
    "dataset.isnull().sum()"
   ]
  },
  {
   "cell_type": "code",
   "execution_count": 5,
   "metadata": {},
   "outputs": [
    {
     "data": {
      "text/plain": [
       "[23]"
      ]
     },
     "execution_count": 5,
     "metadata": {},
     "output_type": "execute_result"
    }
   ],
   "source": [
    "dataset[dataset['SLEEP HOURS'].isnull()].index.tolist()"
   ]
  },
  {
   "cell_type": "code",
   "execution_count": 6,
   "metadata": {},
   "outputs": [],
   "source": [
    "dataset.drop(23,axis=0,inplace=True)"
   ]
  },
  {
   "cell_type": "code",
   "execution_count": 7,
   "metadata": {},
   "outputs": [
    {
     "data": {
      "text/plain": [
       "GENDER          False\n",
       "AGE             False\n",
       "BMI             False\n",
       "TEMP            False\n",
       "SBP             False\n",
       "Pulse           False\n",
       "ALCOHOL         False\n",
       "SMOKER          False\n",
       "SLEEP HOURS     False\n",
       "HEALTH LEVEL    False\n",
       "dtype: bool"
      ]
     },
     "execution_count": 7,
     "metadata": {},
     "output_type": "execute_result"
    }
   ],
   "source": [
    "dataset.isnull().any()"
   ]
  },
  {
   "cell_type": "code",
   "execution_count": 8,
   "metadata": {},
   "outputs": [
    {
     "data": {
      "text/html": [
       "<div>\n",
       "<style scoped>\n",
       "    .dataframe tbody tr th:only-of-type {\n",
       "        vertical-align: middle;\n",
       "    }\n",
       "\n",
       "    .dataframe tbody tr th {\n",
       "        vertical-align: top;\n",
       "    }\n",
       "\n",
       "    .dataframe thead th {\n",
       "        text-align: right;\n",
       "    }\n",
       "</style>\n",
       "<table border=\"1\" class=\"dataframe\">\n",
       "  <thead>\n",
       "    <tr style=\"text-align: right;\">\n",
       "      <th></th>\n",
       "      <th>AGE</th>\n",
       "      <th>BMI</th>\n",
       "      <th>TEMP</th>\n",
       "      <th>SBP</th>\n",
       "      <th>Pulse</th>\n",
       "      <th>SLEEP HOURS</th>\n",
       "      <th>HEALTH LEVEL</th>\n",
       "    </tr>\n",
       "  </thead>\n",
       "  <tbody>\n",
       "    <tr>\n",
       "      <th>count</th>\n",
       "      <td>148.000000</td>\n",
       "      <td>148.000000</td>\n",
       "      <td>148.000000</td>\n",
       "      <td>148.000000</td>\n",
       "      <td>148.000000</td>\n",
       "      <td>148.000000</td>\n",
       "      <td>148.000000</td>\n",
       "    </tr>\n",
       "    <tr>\n",
       "      <th>mean</th>\n",
       "      <td>38.283784</td>\n",
       "      <td>27.567230</td>\n",
       "      <td>100.221622</td>\n",
       "      <td>123.500000</td>\n",
       "      <td>75.520270</td>\n",
       "      <td>7.763514</td>\n",
       "      <td>1.493243</td>\n",
       "    </tr>\n",
       "    <tr>\n",
       "      <th>std</th>\n",
       "      <td>14.854872</td>\n",
       "      <td>6.259867</td>\n",
       "      <td>5.915948</td>\n",
       "      <td>14.534734</td>\n",
       "      <td>5.349639</td>\n",
       "      <td>3.233249</td>\n",
       "      <td>0.644143</td>\n",
       "    </tr>\n",
       "    <tr>\n",
       "      <th>min</th>\n",
       "      <td>18.000000</td>\n",
       "      <td>13.200000</td>\n",
       "      <td>94.300000</td>\n",
       "      <td>95.000000</td>\n",
       "      <td>60.000000</td>\n",
       "      <td>3.000000</td>\n",
       "      <td>0.000000</td>\n",
       "    </tr>\n",
       "    <tr>\n",
       "      <th>25%</th>\n",
       "      <td>25.750000</td>\n",
       "      <td>22.887500</td>\n",
       "      <td>96.000000</td>\n",
       "      <td>117.000000</td>\n",
       "      <td>71.750000</td>\n",
       "      <td>5.000000</td>\n",
       "      <td>1.000000</td>\n",
       "    </tr>\n",
       "    <tr>\n",
       "      <th>50%</th>\n",
       "      <td>36.500000</td>\n",
       "      <td>26.315000</td>\n",
       "      <td>97.000000</td>\n",
       "      <td>119.000000</td>\n",
       "      <td>76.000000</td>\n",
       "      <td>8.000000</td>\n",
       "      <td>2.000000</td>\n",
       "    </tr>\n",
       "    <tr>\n",
       "      <th>75%</th>\n",
       "      <td>53.000000</td>\n",
       "      <td>31.905000</td>\n",
       "      <td>104.000000</td>\n",
       "      <td>132.000000</td>\n",
       "      <td>79.000000</td>\n",
       "      <td>11.000000</td>\n",
       "      <td>2.000000</td>\n",
       "    </tr>\n",
       "    <tr>\n",
       "      <th>max</th>\n",
       "      <td>64.000000</td>\n",
       "      <td>49.060000</td>\n",
       "      <td>113.900000</td>\n",
       "      <td>155.000000</td>\n",
       "      <td>92.000000</td>\n",
       "      <td>13.000000</td>\n",
       "      <td>2.000000</td>\n",
       "    </tr>\n",
       "  </tbody>\n",
       "</table>\n",
       "</div>"
      ],
      "text/plain": [
       "              AGE         BMI        TEMP         SBP       Pulse  \\\n",
       "count  148.000000  148.000000  148.000000  148.000000  148.000000   \n",
       "mean    38.283784   27.567230  100.221622  123.500000   75.520270   \n",
       "std     14.854872    6.259867    5.915948   14.534734    5.349639   \n",
       "min     18.000000   13.200000   94.300000   95.000000   60.000000   \n",
       "25%     25.750000   22.887500   96.000000  117.000000   71.750000   \n",
       "50%     36.500000   26.315000   97.000000  119.000000   76.000000   \n",
       "75%     53.000000   31.905000  104.000000  132.000000   79.000000   \n",
       "max     64.000000   49.060000  113.900000  155.000000   92.000000   \n",
       "\n",
       "       SLEEP HOURS  HEALTH LEVEL  \n",
       "count   148.000000    148.000000  \n",
       "mean      7.763514      1.493243  \n",
       "std       3.233249      0.644143  \n",
       "min       3.000000      0.000000  \n",
       "25%       5.000000      1.000000  \n",
       "50%       8.000000      2.000000  \n",
       "75%      11.000000      2.000000  \n",
       "max      13.000000      2.000000  "
      ]
     },
     "execution_count": 8,
     "metadata": {},
     "output_type": "execute_result"
    }
   ],
   "source": [
    "dataset.describe()"
   ]
  },
  {
   "cell_type": "code",
   "execution_count": 9,
   "metadata": {},
   "outputs": [
    {
     "data": {
      "text/html": [
       "<div>\n",
       "<style scoped>\n",
       "    .dataframe tbody tr th:only-of-type {\n",
       "        vertical-align: middle;\n",
       "    }\n",
       "\n",
       "    .dataframe tbody tr th {\n",
       "        vertical-align: top;\n",
       "    }\n",
       "\n",
       "    .dataframe thead th {\n",
       "        text-align: right;\n",
       "    }\n",
       "</style>\n",
       "<table border=\"1\" class=\"dataframe\">\n",
       "  <thead>\n",
       "    <tr style=\"text-align: right;\">\n",
       "      <th></th>\n",
       "      <th>AGE</th>\n",
       "      <th>BMI</th>\n",
       "      <th>TEMP</th>\n",
       "      <th>SBP</th>\n",
       "      <th>Pulse</th>\n",
       "      <th>SLEEP HOURS</th>\n",
       "      <th>HEALTH LEVEL</th>\n",
       "    </tr>\n",
       "  </thead>\n",
       "  <tbody>\n",
       "    <tr>\n",
       "      <th>AGE</th>\n",
       "      <td>1.000000</td>\n",
       "      <td>-0.061928</td>\n",
       "      <td>-0.073283</td>\n",
       "      <td>0.100665</td>\n",
       "      <td>-0.042446</td>\n",
       "      <td>-0.102838</td>\n",
       "      <td>0.000202</td>\n",
       "    </tr>\n",
       "    <tr>\n",
       "      <th>BMI</th>\n",
       "      <td>-0.061928</td>\n",
       "      <td>1.000000</td>\n",
       "      <td>0.002781</td>\n",
       "      <td>0.058924</td>\n",
       "      <td>0.063908</td>\n",
       "      <td>-0.113931</td>\n",
       "      <td>0.273150</td>\n",
       "    </tr>\n",
       "    <tr>\n",
       "      <th>TEMP</th>\n",
       "      <td>-0.073283</td>\n",
       "      <td>0.002781</td>\n",
       "      <td>1.000000</td>\n",
       "      <td>0.029296</td>\n",
       "      <td>0.034399</td>\n",
       "      <td>-0.057559</td>\n",
       "      <td>0.165701</td>\n",
       "    </tr>\n",
       "    <tr>\n",
       "      <th>SBP</th>\n",
       "      <td>0.100665</td>\n",
       "      <td>0.058924</td>\n",
       "      <td>0.029296</td>\n",
       "      <td>1.000000</td>\n",
       "      <td>0.555683</td>\n",
       "      <td>0.201862</td>\n",
       "      <td>0.013442</td>\n",
       "    </tr>\n",
       "    <tr>\n",
       "      <th>Pulse</th>\n",
       "      <td>-0.042446</td>\n",
       "      <td>0.063908</td>\n",
       "      <td>0.034399</td>\n",
       "      <td>0.555683</td>\n",
       "      <td>1.000000</td>\n",
       "      <td>0.173132</td>\n",
       "      <td>0.023730</td>\n",
       "    </tr>\n",
       "    <tr>\n",
       "      <th>SLEEP HOURS</th>\n",
       "      <td>-0.102838</td>\n",
       "      <td>-0.113931</td>\n",
       "      <td>-0.057559</td>\n",
       "      <td>0.201862</td>\n",
       "      <td>0.173132</td>\n",
       "      <td>1.000000</td>\n",
       "      <td>-0.090597</td>\n",
       "    </tr>\n",
       "    <tr>\n",
       "      <th>HEALTH LEVEL</th>\n",
       "      <td>0.000202</td>\n",
       "      <td>0.273150</td>\n",
       "      <td>0.165701</td>\n",
       "      <td>0.013442</td>\n",
       "      <td>0.023730</td>\n",
       "      <td>-0.090597</td>\n",
       "      <td>1.000000</td>\n",
       "    </tr>\n",
       "  </tbody>\n",
       "</table>\n",
       "</div>"
      ],
      "text/plain": [
       "                   AGE       BMI      TEMP       SBP     Pulse  SLEEP HOURS  \\\n",
       "AGE           1.000000 -0.061928 -0.073283  0.100665 -0.042446    -0.102838   \n",
       "BMI          -0.061928  1.000000  0.002781  0.058924  0.063908    -0.113931   \n",
       "TEMP         -0.073283  0.002781  1.000000  0.029296  0.034399    -0.057559   \n",
       "SBP           0.100665  0.058924  0.029296  1.000000  0.555683     0.201862   \n",
       "Pulse        -0.042446  0.063908  0.034399  0.555683  1.000000     0.173132   \n",
       "SLEEP HOURS  -0.102838 -0.113931 -0.057559  0.201862  0.173132     1.000000   \n",
       "HEALTH LEVEL  0.000202  0.273150  0.165701  0.013442  0.023730    -0.090597   \n",
       "\n",
       "              HEALTH LEVEL  \n",
       "AGE               0.000202  \n",
       "BMI               0.273150  \n",
       "TEMP              0.165701  \n",
       "SBP               0.013442  \n",
       "Pulse             0.023730  \n",
       "SLEEP HOURS      -0.090597  \n",
       "HEALTH LEVEL      1.000000  "
      ]
     },
     "execution_count": 9,
     "metadata": {},
     "output_type": "execute_result"
    }
   ],
   "source": [
    "dataset.corr()"
   ]
  },
  {
   "cell_type": "code",
   "execution_count": 10,
   "metadata": {},
   "outputs": [
    {
     "data": {
      "text/plain": [
       "<matplotlib.axes._subplots.AxesSubplot at 0x2638a50d588>"
      ]
     },
     "execution_count": 10,
     "metadata": {},
     "output_type": "execute_result"
    },
    {
     "data": {
      "image/png": "[encoded data removed]",
      "text/plain": [
       "<Figure size 432x288 with 1 Axes>"
      ]
     },
     "metadata": {
      "needs_background": "light"
     },
     "output_type": "display_data"
    }
   ],
   "source": [
    "sns.boxplot(dataset[\"AGE\"])"
   ]
  },
  {
   "cell_type": "code",
   "execution_count": 11,
   "metadata": {},
   "outputs": [
    {
     "data": {
      "text/plain": [
       "<matplotlib.axes._subplots.AxesSubplot at 0x2638a5b43c8>"
      ]
     },
     "execution_count": 11,
     "metadata": {},
     "output_type": "execute_result"
    },
    {
     "data": {
      "image/png": "[encoded data removed]",
      "text/plain": [
       "<Figure size 432x288 with 1 Axes>"
      ]
     },
     "metadata": {
      "needs_background": "light"
     },
     "output_type": "display_data"
    }
   ],
   "source": [
    "sns.boxplot(dataset[\"BMI\"])"
   ]
  },
  {
   "cell_type": "code",
   "execution_count": 12,
   "metadata": {},
   "outputs": [
    {
     "data": {
      "text/plain": [
       "<matplotlib.axes._subplots.AxesSubplot at 0x2638a6451c8>"
      ]
     },
     "execution_count": 12,
     "metadata": {},
     "output_type": "execute_result"
    },
    {
     "data": {
      "image/png": "[encoded data removed]",
      "text/plain": [
       "<Figure size 432x288 with 1 Axes>"
      ]
     },
     "metadata": {
      "needs_background": "light"
     },
     "output_type": "display_data"
    }
   ],
   "source": [
    "sns.boxplot(dataset[\"TEMP\"])"
   ]
  },
  {
   "cell_type": "code",
   "execution_count": 13,
   "metadata": {},
   "outputs": [
    {
     "data": {
      "text/plain": [
       "<matplotlib.axes._subplots.AxesSubplot at 0x2638a6cc488>"
      ]
     },
     "execution_count": 13,
     "metadata": {},
     "output_type": "execute_result"
    },
    {
     "data": {
      "image/png": "[encoded data removed]",
      "text/plain": [
       "<Figure size 432x288 with 1 Axes>"
      ]
     },
     "metadata": {
      "needs_background": "light"
     },
     "output_type": "display_data"
    }
   ],
   "source": [
    "sns.boxplot(dataset[\"SBP\"])"
   ]
  },
  {
   "cell_type": "code",
   "execution_count": 14,
   "metadata": {},
   "outputs": [
    {
     "data": {
      "text/plain": [
       "<matplotlib.axes._subplots.AxesSubplot at 0x2638a736288>"
      ]
     },
     "execution_count": 14,
     "metadata": {},
     "output_type": "execute_result"
    },
    {
     "data": {
      "image/png": "[encoded data removed]",
      "text/plain": [
       "<Figure size 432x288 with 1 Axes>"
      ]
     },
     "metadata": {
      "needs_background": "light"
     },
     "output_type": "display_data"
    }
   ],
   "source": [
    "sns.boxplot(dataset[\"Pulse\"])"
   ]
  },
  {
   "cell_type": "code",
   "execution_count": 15,
   "metadata": {},
   "outputs": [
    {
     "data": {
      "text/plain": [
       "<matplotlib.axes._subplots.AxesSubplot at 0x2638a79d788>"
      ]
     },
     "execution_count": 15,
     "metadata": {},
     "output_type": "execute_result"
    },
    {
     "data": {
      "image/png": "[encoded data removed]",
      "text/plain": [
       "<Figure size 432x288 with 1 Axes>"
      ]
     },
     "metadata": {
      "needs_background": "light"
     },
     "output_type": "display_data"
    }
   ],
   "source": [
    "sns.boxplot(dataset[\"SLEEP HOURS\"])"
   ]
  },
  {
   "cell_type": "code",
   "execution_count": 16,
   "metadata": {},
   "outputs": [
    {
     "data": {
      "text/plain": [
       "<matplotlib.axes._subplots.AxesSubplot at 0x2638a804508>"
      ]
     },
     "execution_count": 16,
     "metadata": {},
     "output_type": "execute_result"
    },
    {
     "data": {
      "image/png": "[encoded data removed]",
      "text/plain": [
       "<Figure size 432x288 with 1 Axes>"
      ]
     },
     "metadata": {
      "needs_background": "light"
     },
     "output_type": "display_data"
    }
   ],
   "source": [
    "sns.boxplot(dataset[\"HEALTH LEVEL\"])"
   ]
  },
  {
   "cell_type": "code",
   "execution_count": 17,
   "metadata": {},
   "outputs": [
    {
     "data": {
      "text/plain": [
       "AGE             27.2500\n",
       "BMI              9.0175\n",
       "TEMP             8.0000\n",
       "SBP             15.0000\n",
       "Pulse            7.2500\n",
       "SLEEP HOURS      6.0000\n",
       "HEALTH LEVEL     1.0000\n",
       "dtype: float64"
      ]
     },
     "execution_count": 17,
     "metadata": {},
     "output_type": "execute_result"
    }
   ],
   "source": [
    "q1 = dataset.quantile(0.25)\n",
    "q3 = dataset.quantile(0.75)\n",
    "IQR = q3-q1\n",
    "IQR\n"
   ]
  },
  {
   "cell_type": "code",
   "execution_count": 18,
   "metadata": {
    "scrolled": true
   },
   "outputs": [
    {
     "data": {
      "text/html": [
       "<div>\n",
       "<style scoped>\n",
       "    .dataframe tbody tr th:only-of-type {\n",
       "        vertical-align: middle;\n",
       "    }\n",
       "\n",
       "    .dataframe tbody tr th {\n",
       "        vertical-align: top;\n",
       "    }\n",
       "\n",
       "    .dataframe thead th {\n",
       "        text-align: right;\n",
       "    }\n",
       "</style>\n",
       "<table border=\"1\" class=\"dataframe\">\n",
       "  <thead>\n",
       "    <tr style=\"text-align: right;\">\n",
       "      <th></th>\n",
       "      <th>GENDER</th>\n",
       "      <th>AGE</th>\n",
       "      <th>BMI</th>\n",
       "      <th>TEMP</th>\n",
       "      <th>SBP</th>\n",
       "      <th>Pulse</th>\n",
       "      <th>ALCOHOL</th>\n",
       "      <th>SMOKER</th>\n",
       "      <th>SLEEP HOURS</th>\n",
       "      <th>HEALTH LEVEL</th>\n",
       "    </tr>\n",
       "  </thead>\n",
       "  <tbody>\n",
       "    <tr>\n",
       "      <th>0</th>\n",
       "      <td>male</td>\n",
       "      <td>19</td>\n",
       "      <td>33.770</td>\n",
       "      <td>98.6</td>\n",
       "      <td>120</td>\n",
       "      <td>80</td>\n",
       "      <td>no</td>\n",
       "      <td>yes</td>\n",
       "      <td>5.0</td>\n",
       "      <td>2</td>\n",
       "    </tr>\n",
       "    <tr>\n",
       "      <th>1</th>\n",
       "      <td>male</td>\n",
       "      <td>18</td>\n",
       "      <td>24.450</td>\n",
       "      <td>95.0</td>\n",
       "      <td>140</td>\n",
       "      <td>75</td>\n",
       "      <td>no</td>\n",
       "      <td>no</td>\n",
       "      <td>9.0</td>\n",
       "      <td>1</td>\n",
       "    </tr>\n",
       "    <tr>\n",
       "      <th>3</th>\n",
       "      <td>male</td>\n",
       "      <td>33</td>\n",
       "      <td>28.880</td>\n",
       "      <td>110.5</td>\n",
       "      <td>115</td>\n",
       "      <td>79</td>\n",
       "      <td>yes</td>\n",
       "      <td>no</td>\n",
       "      <td>11.0</td>\n",
       "      <td>2</td>\n",
       "    </tr>\n",
       "    <tr>\n",
       "      <th>4</th>\n",
       "      <td>female</td>\n",
       "      <td>32</td>\n",
       "      <td>25.740</td>\n",
       "      <td>94.3</td>\n",
       "      <td>119</td>\n",
       "      <td>85</td>\n",
       "      <td>no</td>\n",
       "      <td>no</td>\n",
       "      <td>6.0</td>\n",
       "      <td>1</td>\n",
       "    </tr>\n",
       "    <tr>\n",
       "      <th>5</th>\n",
       "      <td>female</td>\n",
       "      <td>31</td>\n",
       "      <td>24.760</td>\n",
       "      <td>99.0</td>\n",
       "      <td>95</td>\n",
       "      <td>75</td>\n",
       "      <td>no</td>\n",
       "      <td>no</td>\n",
       "      <td>6.0</td>\n",
       "      <td>0</td>\n",
       "    </tr>\n",
       "    <tr>\n",
       "      <th>...</th>\n",
       "      <td>...</td>\n",
       "      <td>...</td>\n",
       "      <td>...</td>\n",
       "      <td>...</td>\n",
       "      <td>...</td>\n",
       "      <td>...</td>\n",
       "      <td>...</td>\n",
       "      <td>...</td>\n",
       "      <td>...</td>\n",
       "      <td>...</td>\n",
       "    </tr>\n",
       "    <tr>\n",
       "      <th>144</th>\n",
       "      <td>female</td>\n",
       "      <td>30</td>\n",
       "      <td>23.450</td>\n",
       "      <td>110.5</td>\n",
       "      <td>154</td>\n",
       "      <td>83</td>\n",
       "      <td>no</td>\n",
       "      <td>yes</td>\n",
       "      <td>10.0</td>\n",
       "      <td>2</td>\n",
       "    </tr>\n",
       "    <tr>\n",
       "      <th>145</th>\n",
       "      <td>male</td>\n",
       "      <td>29</td>\n",
       "      <td>30.495</td>\n",
       "      <td>113.9</td>\n",
       "      <td>118</td>\n",
       "      <td>73</td>\n",
       "      <td>no</td>\n",
       "      <td>no</td>\n",
       "      <td>10.0</td>\n",
       "      <td>1</td>\n",
       "    </tr>\n",
       "    <tr>\n",
       "      <th>146</th>\n",
       "      <td>female</td>\n",
       "      <td>46</td>\n",
       "      <td>37.730</td>\n",
       "      <td>95.0</td>\n",
       "      <td>125</td>\n",
       "      <td>79</td>\n",
       "      <td>no</td>\n",
       "      <td>yes</td>\n",
       "      <td>13.0</td>\n",
       "      <td>2</td>\n",
       "    </tr>\n",
       "    <tr>\n",
       "      <th>147</th>\n",
       "      <td>female</td>\n",
       "      <td>51</td>\n",
       "      <td>37.430</td>\n",
       "      <td>94.3</td>\n",
       "      <td>132</td>\n",
       "      <td>78</td>\n",
       "      <td>no</td>\n",
       "      <td>no</td>\n",
       "      <td>5.0</td>\n",
       "      <td>2</td>\n",
       "    </tr>\n",
       "    <tr>\n",
       "      <th>148</th>\n",
       "      <td>male</td>\n",
       "      <td>53</td>\n",
       "      <td>23.300</td>\n",
       "      <td>96.5</td>\n",
       "      <td>118</td>\n",
       "      <td>74</td>\n",
       "      <td>no</td>\n",
       "      <td>no</td>\n",
       "      <td>7.0</td>\n",
       "      <td>1</td>\n",
       "    </tr>\n",
       "  </tbody>\n",
       "</table>\n",
       "<p>145 rows × 10 columns</p>\n",
       "</div>"
      ],
      "text/plain": [
       "     GENDER  AGE     BMI   TEMP  SBP  Pulse ALCOHOL SMOKER  SLEEP HOURS  \\\n",
       "0      male   19  33.770   98.6  120     80      no    yes          5.0   \n",
       "1      male   18  24.450   95.0  140     75      no     no          9.0   \n",
       "3      male   33  28.880  110.5  115     79     yes     no         11.0   \n",
       "4    female   32  25.740   94.3  119     85      no     no          6.0   \n",
       "5    female   31  24.760   99.0   95     75      no     no          6.0   \n",
       "..      ...  ...     ...    ...  ...    ...     ...    ...          ...   \n",
       "144  female   30  23.450  110.5  154     83      no    yes         10.0   \n",
       "145    male   29  30.495  113.9  118     73      no     no         10.0   \n",
       "146  female   46  37.730   95.0  125     79      no    yes         13.0   \n",
       "147  female   51  37.430   94.3  132     78      no     no          5.0   \n",
       "148    male   53  23.300   96.5  118     74      no     no          7.0   \n",
       "\n",
       "     HEALTH LEVEL  \n",
       "0               2  \n",
       "1               1  \n",
       "3               2  \n",
       "4               1  \n",
       "5               0  \n",
       "..            ...  \n",
       "144             2  \n",
       "145             1  \n",
       "146             2  \n",
       "147             2  \n",
       "148             1  \n",
       "\n",
       "[145 rows x 10 columns]"
      ]
     },
     "execution_count": 18,
     "metadata": {},
     "output_type": "execute_result"
    }
   ],
   "source": [
    "dataset_no_outlier = dataset[~((dataset<(q1-1.5*IQR))|(dataset>(q3 + 1.5*IQR))).any(axis=1)]\n",
    "dataset_no_outlier"
   ]
  },
  {
   "cell_type": "code",
   "execution_count": 19,
   "metadata": {},
   "outputs": [
    {
     "data": {
      "text/plain": [
       "pandas.core.frame.DataFrame"
      ]
     },
     "execution_count": 19,
     "metadata": {},
     "output_type": "execute_result"
    }
   ],
   "source": [
    "type(dataset_no_outlier)"
   ]
  },
  {
   "cell_type": "code",
   "execution_count": 20,
   "metadata": {},
   "outputs": [
    {
     "name": "stderr",
     "output_type": "stream",
     "text": [
      "C:\\Users\\Priya\\anaconda3\\lib\\site-packages\\pandas\\core\\indexing.py:965: SettingWithCopyWarning: \n",
      "A value is trying to be set on a copy of a slice from a DataFrame.\n",
      "Try using .loc[row_indexer,col_indexer] = value instead\n",
      "\n",
      "See the caveats in the documentation: https://pandas.pydata.org/pandas-docs/stable/user_guide/indexing.html#returning-a-view-versus-a-copy\n",
      "  self.obj[item] = s\n"
     ]
    },
    {
     "data": {
      "text/html": [
       "<div>\n",
       "<style scoped>\n",
       "    .dataframe tbody tr th:only-of-type {\n",
       "        vertical-align: middle;\n",
       "    }\n",
       "\n",
       "    .dataframe tbody tr th {\n",
       "        vertical-align: top;\n",
       "    }\n",
       "\n",
       "    .dataframe thead th {\n",
       "        text-align: right;\n",
       "    }\n",
       "</style>\n",
       "<table border=\"1\" class=\"dataframe\">\n",
       "  <thead>\n",
       "    <tr style=\"text-align: right;\">\n",
       "      <th></th>\n",
       "      <th>GENDER</th>\n",
       "      <th>AGE</th>\n",
       "      <th>BMI</th>\n",
       "      <th>TEMP</th>\n",
       "      <th>SBP</th>\n",
       "      <th>Pulse</th>\n",
       "      <th>ALCOHOL</th>\n",
       "      <th>SMOKER</th>\n",
       "      <th>SLEEP HOURS</th>\n",
       "      <th>HEALTH LEVEL</th>\n",
       "    </tr>\n",
       "  </thead>\n",
       "  <tbody>\n",
       "    <tr>\n",
       "      <th>0</th>\n",
       "      <td>1</td>\n",
       "      <td>19</td>\n",
       "      <td>33.770</td>\n",
       "      <td>98.6</td>\n",
       "      <td>120</td>\n",
       "      <td>80</td>\n",
       "      <td>0</td>\n",
       "      <td>1</td>\n",
       "      <td>5.0</td>\n",
       "      <td>2</td>\n",
       "    </tr>\n",
       "    <tr>\n",
       "      <th>1</th>\n",
       "      <td>1</td>\n",
       "      <td>18</td>\n",
       "      <td>24.450</td>\n",
       "      <td>95.0</td>\n",
       "      <td>140</td>\n",
       "      <td>75</td>\n",
       "      <td>0</td>\n",
       "      <td>0</td>\n",
       "      <td>9.0</td>\n",
       "      <td>1</td>\n",
       "    </tr>\n",
       "    <tr>\n",
       "      <th>3</th>\n",
       "      <td>1</td>\n",
       "      <td>33</td>\n",
       "      <td>28.880</td>\n",
       "      <td>110.5</td>\n",
       "      <td>115</td>\n",
       "      <td>79</td>\n",
       "      <td>1</td>\n",
       "      <td>0</td>\n",
       "      <td>11.0</td>\n",
       "      <td>2</td>\n",
       "    </tr>\n",
       "    <tr>\n",
       "      <th>4</th>\n",
       "      <td>0</td>\n",
       "      <td>32</td>\n",
       "      <td>25.740</td>\n",
       "      <td>94.3</td>\n",
       "      <td>119</td>\n",
       "      <td>85</td>\n",
       "      <td>0</td>\n",
       "      <td>0</td>\n",
       "      <td>6.0</td>\n",
       "      <td>1</td>\n",
       "    </tr>\n",
       "    <tr>\n",
       "      <th>5</th>\n",
       "      <td>0</td>\n",
       "      <td>31</td>\n",
       "      <td>24.760</td>\n",
       "      <td>99.0</td>\n",
       "      <td>95</td>\n",
       "      <td>75</td>\n",
       "      <td>0</td>\n",
       "      <td>0</td>\n",
       "      <td>6.0</td>\n",
       "      <td>0</td>\n",
       "    </tr>\n",
       "    <tr>\n",
       "      <th>...</th>\n",
       "      <td>...</td>\n",
       "      <td>...</td>\n",
       "      <td>...</td>\n",
       "      <td>...</td>\n",
       "      <td>...</td>\n",
       "      <td>...</td>\n",
       "      <td>...</td>\n",
       "      <td>...</td>\n",
       "      <td>...</td>\n",
       "      <td>...</td>\n",
       "    </tr>\n",
       "    <tr>\n",
       "      <th>144</th>\n",
       "      <td>0</td>\n",
       "      <td>30</td>\n",
       "      <td>23.450</td>\n",
       "      <td>110.5</td>\n",
       "      <td>154</td>\n",
       "      <td>83</td>\n",
       "      <td>0</td>\n",
       "      <td>1</td>\n",
       "      <td>10.0</td>\n",
       "      <td>2</td>\n",
       "    </tr>\n",
       "    <tr>\n",
       "      <th>145</th>\n",
       "      <td>1</td>\n",
       "      <td>29</td>\n",
       "      <td>30.495</td>\n",
       "      <td>113.9</td>\n",
       "      <td>118</td>\n",
       "      <td>73</td>\n",
       "      <td>0</td>\n",
       "      <td>0</td>\n",
       "      <td>10.0</td>\n",
       "      <td>1</td>\n",
       "    </tr>\n",
       "    <tr>\n",
       "      <th>146</th>\n",
       "      <td>0</td>\n",
       "      <td>46</td>\n",
       "      <td>37.730</td>\n",
       "      <td>95.0</td>\n",
       "      <td>125</td>\n",
       "      <td>79</td>\n",
       "      <td>0</td>\n",
       "      <td>1</td>\n",
       "      <td>13.0</td>\n",
       "      <td>2</td>\n",
       "    </tr>\n",
       "    <tr>\n",
       "      <th>147</th>\n",
       "      <td>0</td>\n",
       "      <td>51</td>\n",
       "      <td>37.430</td>\n",
       "      <td>94.3</td>\n",
       "      <td>132</td>\n",
       "      <td>78</td>\n",
       "      <td>0</td>\n",
       "      <td>0</td>\n",
       "      <td>5.0</td>\n",
       "      <td>2</td>\n",
       "    </tr>\n",
       "    <tr>\n",
       "      <th>148</th>\n",
       "      <td>1</td>\n",
       "      <td>53</td>\n",
       "      <td>23.300</td>\n",
       "      <td>96.5</td>\n",
       "      <td>118</td>\n",
       "      <td>74</td>\n",
       "      <td>0</td>\n",
       "      <td>0</td>\n",
       "      <td>7.0</td>\n",
       "      <td>1</td>\n",
       "    </tr>\n",
       "  </tbody>\n",
       "</table>\n",
       "<p>145 rows × 10 columns</p>\n",
       "</div>"
      ],
      "text/plain": [
       "     GENDER  AGE     BMI   TEMP  SBP  Pulse  ALCOHOL  SMOKER  SLEEP HOURS  \\\n",
       "0         1   19  33.770   98.6  120     80        0       1          5.0   \n",
       "1         1   18  24.450   95.0  140     75        0       0          9.0   \n",
       "3         1   33  28.880  110.5  115     79        1       0         11.0   \n",
       "4         0   32  25.740   94.3  119     85        0       0          6.0   \n",
       "5         0   31  24.760   99.0   95     75        0       0          6.0   \n",
       "..      ...  ...     ...    ...  ...    ...      ...     ...          ...   \n",
       "144       0   30  23.450  110.5  154     83        0       1         10.0   \n",
       "145       1   29  30.495  113.9  118     73        0       0         10.0   \n",
       "146       0   46  37.730   95.0  125     79        0       1         13.0   \n",
       "147       0   51  37.430   94.3  132     78        0       0          5.0   \n",
       "148       1   53  23.300   96.5  118     74        0       0          7.0   \n",
       "\n",
       "     HEALTH LEVEL  \n",
       "0               2  \n",
       "1               1  \n",
       "3               2  \n",
       "4               1  \n",
       "5               0  \n",
       "..            ...  \n",
       "144             2  \n",
       "145             1  \n",
       "146             2  \n",
       "147             2  \n",
       "148             1  \n",
       "\n",
       "[145 rows x 10 columns]"
      ]
     },
     "execution_count": 20,
     "metadata": {},
     "output_type": "execute_result"
    }
   ],
   "source": [
    "from sklearn.preprocessing import LabelEncoder\n",
    "lb=LabelEncoder()\n",
    "dataset_no_outlier.iloc[:,0]=lb.fit_transform(dataset_no_outlier.iloc[:,0])\n",
    "dataset_no_outlier.iloc[:,6]=lb.fit_transform(dataset_no_outlier.iloc[:,6])\n",
    "dataset_no_outlier.iloc[:,7]=lb.fit_transform(dataset_no_outlier.iloc[:,7])\n",
    "dataset_no_outlier\n"
   ]
  },
  {
   "cell_type": "code",
   "execution_count": 21,
   "metadata": {},
   "outputs": [
    {
     "data": {
      "text/plain": [
       "array([[ 1.  , 19.  , 33.77, ...,  0.  ,  1.  ,  5.  ],\n",
       "       [ 1.  , 18.  , 24.45, ...,  0.  ,  0.  ,  9.  ],\n",
       "       [ 1.  , 33.  , 28.88, ...,  1.  ,  0.  , 11.  ],\n",
       "       ...,\n",
       "       [ 0.  , 46.  , 37.73, ...,  0.  ,  1.  , 13.  ],\n",
       "       [ 0.  , 51.  , 37.43, ...,  0.  ,  0.  ,  5.  ],\n",
       "       [ 1.  , 53.  , 23.3 , ...,  0.  ,  0.  ,  7.  ]])"
      ]
     },
     "execution_count": 21,
     "metadata": {},
     "output_type": "execute_result"
    }
   ],
   "source": [
    "x=dataset_no_outlier.iloc[:,:9].values\n",
    "x"
   ]
  },
  {
   "cell_type": "code",
   "execution_count": 22,
   "metadata": {},
   "outputs": [
    {
     "data": {
      "text/plain": [
       "array([2, 1, 2, 1, 0, 1, 1, 2, 0, 2, 2, 1, 2, 1, 2, 2, 1, 0, 2, 1, 1, 2,\n",
       "       2, 0, 2, 1, 2, 2, 1, 2, 1, 2, 2, 1, 2, 2, 2, 1, 0, 1, 1, 2, 0, 2,\n",
       "       1, 2, 2, 2, 2, 2, 1, 2, 1, 2, 2, 2, 2, 2, 2, 2, 2, 2, 2, 2, 1, 1,\n",
       "       2, 2, 2, 2, 1, 2, 2, 1, 2, 1, 1, 2, 2, 2, 1, 2, 2, 2, 1, 2, 2, 2,\n",
       "       2, 2, 2, 2, 2, 2, 0, 2, 0, 1, 2, 0, 2, 1, 2, 2, 1, 2, 2, 1, 1, 1,\n",
       "       1, 0, 1, 0, 2, 2, 0, 1, 2, 1, 1, 1, 1, 2, 2, 2, 2, 2, 1, 1, 2, 2,\n",
       "       2, 1, 2, 1, 1, 2, 2, 1, 2, 1, 2, 2, 1], dtype=int64)"
      ]
     },
     "execution_count": 22,
     "metadata": {},
     "output_type": "execute_result"
    }
   ],
   "source": [
    "y=dataset_no_outlier.iloc[:,9].values\n",
    "y"
   ]
  },
  {
   "cell_type": "code",
   "execution_count": 23,
   "metadata": {},
   "outputs": [],
   "source": [
    "from sklearn.model_selection import train_test_split\n",
    "x_train,x_test,y_train,y_test = train_test_split(x,y,test_size=0.2, random_state = 0)"
   ]
  },
  {
   "cell_type": "code",
   "execution_count": 24,
   "metadata": {},
   "outputs": [
    {
     "data": {
      "text/plain": [
       "(29, 9)"
      ]
     },
     "execution_count": 24,
     "metadata": {},
     "output_type": "execute_result"
    }
   ],
   "source": [
    "x_test.shape"
   ]
  },
  {
   "cell_type": "code",
   "execution_count": 25,
   "metadata": {},
   "outputs": [
    {
     "data": {
      "text/plain": [
       "(116, 9)"
      ]
     },
     "execution_count": 25,
     "metadata": {},
     "output_type": "execute_result"
    }
   ],
   "source": [
    "x_train.shape"
   ]
  },
  {
   "cell_type": "code",
   "execution_count": 26,
   "metadata": {},
   "outputs": [
    {
     "data": {
      "text/plain": [
       "(29,)"
      ]
     },
     "execution_count": 26,
     "metadata": {},
     "output_type": "execute_result"
    }
   ],
   "source": [
    "y_test.shape"
   ]
  },
  {
   "cell_type": "code",
   "execution_count": 27,
   "metadata": {},
   "outputs": [
    {
     "data": {
      "text/plain": [
       "(116,)"
      ]
     },
     "execution_count": 27,
     "metadata": {},
     "output_type": "execute_result"
    }
   ],
   "source": [
    "y_train.shape"
   ]
  },
  {
   "cell_type": "code",
   "execution_count": 28,
   "metadata": {},
   "outputs": [
    {
     "data": {
      "text/plain": [
       "DecisionTreeClassifier(ccp_alpha=0.0, class_weight=None, criterion='entropy',\n",
       "                       max_depth=None, max_features=None, max_leaf_nodes=None,\n",
       "                       min_impurity_decrease=0.0, min_impurity_split=None,\n",
       "                       min_samples_leaf=1, min_samples_split=2,\n",
       "                       min_weight_fraction_leaf=0.0, presort='deprecated',\n",
       "                       random_state=0, splitter='best')"
      ]
     },
     "execution_count": 28,
     "metadata": {},
     "output_type": "execute_result"
    }
   ],
   "source": [
    "from sklearn.tree import DecisionTreeClassifier\n",
    "dt=DecisionTreeClassifier(criterion='entropy',random_state=0,max_depth=)\n",
    "dt.fit(x_train,y_train)"
   ]
  },
  {
   "cell_type": "code",
   "execution_count": 29,
   "metadata": {},
   "outputs": [
    {
     "data": {
      "text/plain": [
       "array([2, 2, 2, 2, 0, 2, 2, 2, 0, 2, 2, 1, 1, 2, 1, 1, 1, 2, 1, 0, 2, 1,\n",
       "       2, 2, 2, 1, 1, 2, 2], dtype=int64)"
      ]
     },
     "execution_count": 29,
     "metadata": {},
     "output_type": "execute_result"
    }
   ],
   "source": [
    "y_pred = dt.predict(x_test)\n",
    "y_pred"
   ]
  },
  {
   "cell_type": "code",
   "execution_count": 30,
   "metadata": {},
   "outputs": [
    {
     "data": {
      "text/plain": [
       "array([2, 2, 2, 2, 1, 2, 2, 2, 0, 2, 1, 1, 1, 2, 1, 1, 1, 2, 1, 0, 2, 1,\n",
       "       2, 2, 2, 1, 1, 2, 2], dtype=int64)"
      ]
     },
     "execution_count": 30,
     "metadata": {},
     "output_type": "execute_result"
    }
   ],
   "source": [
    "y_test"
   ]
  },
  {
   "cell_type": "code",
   "execution_count": 31,
   "metadata": {},
   "outputs": [
    {
     "data": {
      "text/plain": [
       "0.9310344827586207"
      ]
     },
     "execution_count": 31,
     "metadata": {},
     "output_type": "execute_result"
    }
   ],
   "source": [
    "from sklearn.metrics import accuracy_score\n",
    "accuracy_score(y_test,y_pred)"
   ]
  },
  {
   "cell_type": "code",
   "execution_count": null,
   "metadata": {},
   "outputs": [],
   "source": []
  }
 ],
 "metadata": {
  "kernelspec": {
   "display_name": "Python 3",
   "language": "python",
   "name": "python3"
  },
  "language_info": {
   "codemirror_mode": {
    "name": "ipython",
    "version": 3
   },
   "file_extension": ".py",
   "mimetype": "text/x-python",
   "name": "python",
   "nbconvert_exporter": "python",
   "pygments_lexer": "ipython3",
   "version": "3.7.6"
  }
 },
 "nbformat": 4,
 "nbformat_minor": 4
}
